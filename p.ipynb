{
 "metadata": {
  "language_info": {
   "codemirror_mode": {
    "name": "ipython",
    "version": 3
   },
   "file_extension": ".py",
   "mimetype": "text/x-python",
   "name": "python",
   "nbconvert_exporter": "python",
   "pygments_lexer": "ipython3",
   "version": "3.7.5-final"
  },
  "orig_nbformat": 2,
  "kernelspec": {
   "name": "python3",
   "display_name": "Python 3"
  }
 },
 "nbformat": 4,
 "nbformat_minor": 2,
 "cells": [
  {
   "cell_type": "code",
   "execution_count": 144,
   "metadata": {},
   "outputs": [],
   "source": [
    "import pyautogui as pg\n",
    "from selenium import webdriver\n",
    "import webbrowser as web\n",
    "import time\n",
    "import pandas as pd"
   ]
  },
  {
   "cell_type": "code",
   "execution_count": 141,
   "metadata": {},
   "outputs": [],
   "source": [
    "def read_csv_file(path=\"leads.csv\"):\n",
    "    data = pd.read_csv(\"leads.csv\")\n",
    "    data_dict = data.to_dict('list')\n",
    "    return zip(data_dict['names'], data_dict['LeadNumber'], data_dict['Message'],   list(data_dict['attachment'])) # ((name,number, msg), (name,number, msg))\n",
    "    "
   ]
  },
  {
   "cell_type": "code",
   "execution_count": 145,
   "metadata": {},
   "outputs": [
    {
     "output_type": "stream",
     "name": "stdout",
     "text": [
      "/home/hamza/Pictures/accessibility.png,/media/hamza/linux1/Coding/Python/whatsapp_bulk_msg_sender/leads.csv\n"
     ]
    }
   ],
   "source": [
    "c = read_csv_file(\"leads.csv\")\n",
    "\n",
    "for n, num, message, a in c:\n",
    "    # print(n, \" \", num, \" \", message, \" \", [a], \"\\n\")\n",
    "    # a = a.split(\",\")\n",
    "    print(a)"
   ]
  },
  {
   "cell_type": "code",
   "execution_count": 32,
   "metadata": {},
   "outputs": [],
   "source": [
    "driver = webdriver.Firefox(executable_path=\"/media/hamza/linux1/Coding/Python/whatsapp_bulk_msg_sender/geckodriver\")\n",
    "driver.get('https://web.whatsapp.com/send?phone=' + \"923322063648\"+\"&text=\"+ \"Hi\")\n"
   ]
  },
  {
   "cell_type": "code",
   "execution_count": 120,
   "metadata": {},
   "outputs": [],
   "source": [
    "driver.get('https://web.whatsapp.com/send?phone=' + \"923322063648\"+\"&text=\"+ \"owl\")\n"
   ]
  },
  {
   "cell_type": "code",
   "execution_count": 121,
   "metadata": {},
   "outputs": [],
   "source": [
    "searchName = driver.find_element_by_xpath('//div[@class = \"{}\"]'.format(\"_3FRCZ copyable-text selectable-text\")) \n",
    "searchName.click()\n",
    "searchName.send_keys(\"Linear algebra\")\n",
    "time.sleep(1)\n",
    "\n",
    "user = driver.find_element_by_xpath('//span[@title = \"{}\"]'.format(\"Linear algebra\"))\n",
    "user.click()\n"
   ]
  },
  {
   "cell_type": "code",
   "execution_count": 124,
   "metadata": {},
   "outputs": [],
   "source": [
    "msgBox = driver.find_element_by_css_selector('#main ._3FRCZ')\n",
    "msgBox.click()\n",
    "msgBox.send_keys(\"This is me\")"
   ]
  },
  {
   "cell_type": "code",
   "execution_count": 123,
   "metadata": {},
   "outputs": [
    {
     "output_type": "execute_result",
     "data": {
      "text/plain": [
       "<selenium.webdriver.firefox.webelement.FirefoxWebElement (session=\"72a29a14-1d18-450d-ab56-525b1607adb9\", element=\"6fdc49cc-2a5a-4d11-a092-3f3d5713b808\")>"
      ]
     },
     "metadata": {},
     "execution_count": 123
    }
   ],
   "source": [
    "driver.find_element_by_css_selector('#main ._3FRCZ')"
   ]
  },
  {
   "cell_type": "code",
   "execution_count": null,
   "metadata": {},
   "outputs": [],
   "source": []
  }
 ]
}