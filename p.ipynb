{
 "cells": [
  {
   "cell_type": "code",
   "execution_count": 11,
   "metadata": {},
   "outputs": [],
   "source": [
    "import pyautogui as pg\n",
    "from selenium import webdriver\n",
    "import webbrowser as web\n",
    "import time\n",
    "import pandas as pd"
   ]
  },
  {
   "cell_type": "code",
   "execution_count": 141,
   "metadata": {},
   "outputs": [],
   "source": [
    "def read_csv_file(path=\"leads.csv\"):\n",
    "    data = pd.read_csv(\"leads.csv\")\n",
    "    data_dict = data.to_dict('list')\n",
    "    return zip(data_dict['names'], data_dict['LeadNumber'], data_dict['Message'],   list(data_dict['attachment'])) # ((name,number, msg), (name,number, msg))\n",
    "    "
   ]
  },
  {
   "cell_type": "code",
   "execution_count": 145,
   "metadata": {},
   "outputs": [
    {
     "name": "stdout",
     "output_type": "stream",
     "text": [
      "/home/hamza/Pictures/accessibility.png,/media/hamza/linux1/Coding/Python/whatsapp_bulk_msg_sender/leads.csv\n"
     ]
    }
   ],
   "source": [
    "c = read_csv_file(\"leads.csv\")\n",
    "\n",
    "for n, num, message, a in c:\n",
    "    # print(n, \" \", num, \" \", message, \" \", [a], \"\\n\")\n",
    "    # a = a.split(\",\")\n",
    "    print(a)"
   ]
  },
  {
   "cell_type": "code",
   "execution_count": 32,
   "metadata": {},
   "outputs": [],
   "source": [
    "driver = webdriver.Firefox(executable_path=\"/media/hamza/linux1/Coding/Python/whatsapp_bulk_msg_sender/geckodriver\")\n",
    "driver.get('https://web.whatsapp.com/send?phone=' + \"923322063648\"+\"&text=\"+ \"Hi\")\n"
   ]
  },
  {
   "cell_type": "code",
   "execution_count": 120,
   "metadata": {},
   "outputs": [],
   "source": [
    "driver.get('https://web.whatsapp.com/send?phone=' + \"923322063648\"+\"&text=\"+ \"owl\")\n"
   ]
  },
  {
   "cell_type": "code",
   "execution_count": 121,
   "metadata": {},
   "outputs": [],
   "source": [
    "searchName = driver.find_element_by_xpath('//div[@class = \"{}\"]'.format(\"_3FRCZ copyable-text selectable-text\")) \n",
    "searchName.click()\n",
    "searchName.send_keys(\"Linear algebra\")\n",
    "time.sleep(1)\n",
    "\n",
    "user = driver.find_element_by_xpath('//span[@title = \"{}\"]'.format(\"Linear algebra\"))\n",
    "user.click()\n"
   ]
  },
  {
   "cell_type": "code",
   "execution_count": 124,
   "metadata": {},
   "outputs": [],
   "source": [
    "msgBox = driver.find_element_by_css_selector('#main ._3FRCZ')\n",
    "msgBox.click()\n",
    "msgBox.send_keys(\"This is me\")"
   ]
  },
  {
   "cell_type": "code",
   "execution_count": 123,
   "metadata": {},
   "outputs": [
    {
     "data": {
      "text/plain": [
       "<selenium.webdriver.firefox.webelement.FirefoxWebElement (session=\"72a29a14-1d18-450d-ab56-525b1607adb9\", element=\"6fdc49cc-2a5a-4d11-a092-3f3d5713b808\")>"
      ]
     },
     "execution_count": 123,
     "metadata": {},
     "output_type": "execute_result"
    }
   ],
   "source": [
    "driver.find_element_by_css_selector('#main ._3FRCZ')"
   ]
  },
  {
   "cell_type": "code",
   "execution_count": 20,
   "metadata": {},
   "outputs": [
    {
     "name": "stdout",
     "output_type": "stream",
     "text": [
      "file\n",
      "file\n",
      "name\n",
      "Number\n"
     ]
    }
   ],
   "source": [
    "\n",
    "def recipient_method(strr):\n",
    "    try:\n",
    "        int(strr)\n",
    "        print(\"Number\")\n",
    "    except ValueError:\n",
    "        if strr[-5:] == \".xlsx\" or strr[-4:] == \".csv\":\n",
    "            print(\"file\")\n",
    "        else:\n",
    "            print(\"name\")\n",
    "            \n",
    "recipient_method(\"9233d.xlsx\")\n",
    "recipient_method(\"9233d.csv\")\n",
    "recipient_method(\"Mohib\")\n",
    "recipient_method(\"8790\")\n",
    "    "
   ]
  },
  {
   "cell_type": "code",
   "execution_count": 8,
   "metadata": {},
   "outputs": [
    {
     "name": "stdout",
     "output_type": "stream",
     "text": [
      "923370392561\n",
      "923342843869\n",
      "hamza\n",
      "Linear aljebra\n"
     ]
    }
   ],
   "source": [
    "lst = [[923370392561, 923342843869], [], ['hamza', 'Linear aljebra']]\n",
    "for each in lst[0]:\n",
    "    print(each)\n",
    "\n",
    "for each in lst[2]: \n",
    "    print(each)\n",
    "    \n",
    "for each in lst[1]:\n",
    "    print(each)"
   ]
  },
  {
   "cell_type": "code",
   "execution_count": 10,
   "metadata": {},
   "outputs": [
    {
     "data": {
      "text/plain": [
       "False"
      ]
     },
     "execution_count": 10,
     "metadata": {},
     "output_type": "execute_result"
    }
   ],
   "source": [
    "not lst[0]"
   ]
  },
  {
   "cell_type": "code",
   "execution_count": 6,
   "metadata": {},
   "outputs": [],
   "source": [
    "l = [[\"na1\", \"na2\"],[\"num1\",\"nnum2\"], [\"file1\", \"file2\"]]"
   ]
  },
  {
   "cell_type": "code",
   "execution_count": 7,
   "metadata": {},
   "outputs": [
    {
     "data": {
      "text/plain": [
       "['na1', 'na2']"
      ]
     },
     "execution_count": 7,
     "metadata": {},
     "output_type": "execute_result"
    }
   ],
   "source": [
    "l[0]"
   ]
  },
  {
   "cell_type": "code",
   "execution_count": 12,
   "metadata": {},
   "outputs": [],
   "source": [
    "j = [923130213321]"
   ]
  },
  {
   "cell_type": "code",
   "execution_count": 13,
   "metadata": {},
   "outputs": [
    {
     "data": {
      "text/plain": [
       "False"
      ]
     },
     "execution_count": 13,
     "metadata": {},
     "output_type": "execute_result"
    }
   ],
   "source": [
    "not j"
   ]
  },
  {
   "cell_type": "code",
   "execution_count": 14,
   "metadata": {},
   "outputs": [],
   "source": [
    "f = ['file.csv', 'o.xlsx']"
   ]
  },
  {
   "cell_type": "code",
   "execution_count": 15,
   "metadata": {},
   "outputs": [
    {
     "data": {
      "text/plain": [
       "False"
      ]
     },
     "execution_count": 15,
     "metadata": {},
     "output_type": "execute_result"
    }
   ],
   "source": [
    "not f"
   ]
  },
  {
   "cell_type": "code",
   "execution_count": 16,
   "metadata": {},
   "outputs": [
    {
     "data": {
      "text/plain": [
       "True"
      ]
     },
     "execution_count": 16,
     "metadata": {},
     "output_type": "execute_result"
    }
   ],
   "source": [
    "not f == False"
   ]
  },
  {
   "cell_type": "code",
   "execution_count": null,
   "metadata": {},
   "outputs": [],
   "source": []
  }
 ],
 "metadata": {
  "kernelspec": {
   "display_name": "Python 3",
   "language": "python",
   "name": "python3"
  },
  "language_info": {
   "codemirror_mode": {
    "name": "ipython",
    "version": 3
   },
   "file_extension": ".py",
   "mimetype": "text/x-python",
   "name": "python",
   "nbconvert_exporter": "python",
   "pygments_lexer": "ipython3",
   "version": "3.7.5"
  }
 },
 "nbformat": 4,
 "nbformat_minor": 2
}
