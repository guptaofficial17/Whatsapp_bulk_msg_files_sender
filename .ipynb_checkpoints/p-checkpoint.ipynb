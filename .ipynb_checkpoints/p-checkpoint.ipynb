{
 "cells": [
  {
   "cell_type": "code",
   "execution_count": 1,
   "metadata": {},
   "outputs": [],
   "source": [
    "import pyautogui as pg\n",
    "from selenium import webdriver\n",
    "import webbrowser as web\n",
    "import time\n",
    "import pandas as pd"
   ]
  },
  {
   "cell_type": "code",
   "execution_count": 141,
   "metadata": {},
   "outputs": [],
   "source": [
    "def read_csv_file(path=\"leads.csv\"):\n",
    "    data = pd.read_csv(\"leads.csv\")\n",
    "    data_dict = data.to_dict('list')\n",
    "    return zip(data_dict['names'], data_dict['LeadNumber'], data_dict['Message'],   list(data_dict['attachment'])) # ((name,number, msg), (name,number, msg))\n",
    "    "
   ]
  },
  {
   "cell_type": "code",
   "execution_count": 145,
   "metadata": {},
   "outputs": [
    {
     "name": "stdout",
     "output_type": "stream",
     "text": [
      "/home/hamza/Pictures/accessibility.png,/media/hamza/linux1/Coding/Python/whatsapp_bulk_msg_sender/leads.csv\n"
     ]
    }
   ],
   "source": [
    "c = read_csv_file(\"leads.csv\")\n",
    "\n",
    "for n, num, message, a in c:\n",
    "    # print(n, \" \", num, \" \", message, \" \", [a], \"\\n\")\n",
    "    # a = a.split(\",\")\n",
    "    print(a)"
   ]
  },
  {
   "cell_type": "code",
   "execution_count": 32,
   "metadata": {},
   "outputs": [],
   "source": [
    "driver = webdriver.Firefox(executable_path=\"/media/hamza/linux1/Coding/Python/whatsapp_bulk_msg_sender/geckodriver\")\n",
    "driver.get('https://web.whatsapp.com/send?phone=' + \"923322063648\"+\"&text=\"+ \"Hi\")\n"
   ]
  },
  {
   "cell_type": "code",
   "execution_count": 120,
   "metadata": {},
   "outputs": [],
   "source": [
    "driver.get('https://web.whatsapp.com/send?phone=' + \"923322063648\"+\"&text=\"+ \"owl\")\n"
   ]
  },
  {
   "cell_type": "code",
   "execution_count": 121,
   "metadata": {},
   "outputs": [],
   "source": [
    "searchName = driver.find_element_by_xpath('//div[@class = \"{}\"]'.format(\"_3FRCZ copyable-text selectable-text\")) \n",
    "searchName.click()\n",
    "searchName.send_keys(\"Linear algebra\")\n",
    "time.sleep(1)\n",
    "\n",
    "user = driver.find_element_by_xpath('//span[@title = \"{}\"]'.format(\"Linear algebra\"))\n",
    "user.click()\n"
   ]
  },
  {
   "cell_type": "code",
   "execution_count": 124,
   "metadata": {},
   "outputs": [],
   "source": [
    "msgBox = driver.find_element_by_css_selector('#main ._3FRCZ')\n",
    "msgBox.click()\n",
    "msgBox.send_keys(\"This is me\")"
   ]
  },
  {
   "cell_type": "code",
   "execution_count": 123,
   "metadata": {},
   "outputs": [
    {
     "data": {
      "text/plain": [
       "<selenium.webdriver.firefox.webelement.FirefoxWebElement (session=\"72a29a14-1d18-450d-ab56-525b1607adb9\", element=\"6fdc49cc-2a5a-4d11-a092-3f3d5713b808\")>"
      ]
     },
     "execution_count": 123,
     "metadata": {},
     "output_type": "execute_result"
    }
   ],
   "source": [
    "driver.find_element_by_css_selector('#main ._3FRCZ')"
   ]
  },
  {
   "cell_type": "code",
   "execution_count": 20,
   "metadata": {},
   "outputs": [
    {
     "name": "stdout",
     "output_type": "stream",
     "text": [
      "file\n",
      "file\n",
      "name\n",
      "Number\n"
     ]
    }
   ],
   "source": [
    "\n",
    "def recipient_method(strr):\n",
    "    try:\n",
    "        int(strr)\n",
    "        print(\"Number\")\n",
    "    except ValueError:\n",
    "        if strr[-5:] == \".xlsx\" or strr[-4:] == \".csv\":\n",
    "            print(\"file\")\n",
    "        else:\n",
    "            print(\"name\")\n",
    "            \n",
    "recipient_method(\"9233d.xlsx\")\n",
    "recipient_method(\"9233d.csv\")\n",
    "recipient_method(\"Mohib\")\n",
    "recipient_method(\"8790\")\n",
    "    "
   ]
  },
  {
   "cell_type": "code",
   "execution_count": 21,
   "metadata": {},
   "outputs": [
    {
     "ename": "NameError",
     "evalue": "name 'pritn' is not defined",
     "output_type": "error",
     "traceback": [
      "\u001b[0;31m---------------------------------------------------------------------------\u001b[0m",
      "\u001b[0;31mNameError\u001b[0m                                 Traceback (most recent call last)",
      "\u001b[0;32m<ipython-input-21-a814f38f77b2>\u001b[0m in \u001b[0;36m<module>\u001b[0;34m\u001b[0m\n\u001b[1;32m      1\u001b[0m \u001b[0mlst\u001b[0m \u001b[0;34m=\u001b[0m \u001b[0;34m[\u001b[0m\u001b[0;34m[\u001b[0m\u001b[0;36m923370392561\u001b[0m\u001b[0;34m,\u001b[0m \u001b[0;36m923342843869\u001b[0m\u001b[0;34m]\u001b[0m\u001b[0;34m,\u001b[0m \u001b[0;34m[\u001b[0m\u001b[0;34m'file.csv'\u001b[0m\u001b[0;34m,\u001b[0m \u001b[0;34m'o.xlsx'\u001b[0m\u001b[0;34m]\u001b[0m\u001b[0;34m,\u001b[0m \u001b[0;34m[\u001b[0m\u001b[0;34m'hamza'\u001b[0m\u001b[0;34m,\u001b[0m \u001b[0;34m'Linear aljebra'\u001b[0m\u001b[0;34m]\u001b[0m\u001b[0;34m]\u001b[0m\u001b[0;34m\u001b[0m\u001b[0;34m\u001b[0m\u001b[0m\n\u001b[1;32m      2\u001b[0m \u001b[0;32mfor\u001b[0m \u001b[0meach\u001b[0m \u001b[0;32min\u001b[0m \u001b[0mlst\u001b[0m\u001b[0;34m:\u001b[0m\u001b[0;34m\u001b[0m\u001b[0;34m\u001b[0m\u001b[0m\n\u001b[0;32m----> 3\u001b[0;31m     \u001b[0mpritn\u001b[0m\u001b[0;34m(\u001b[0m\u001b[0meach\u001b[0m\u001b[0;34m)\u001b[0m\u001b[0;34m\u001b[0m\u001b[0;34m\u001b[0m\u001b[0m\n\u001b[0m",
      "\u001b[0;31mNameError\u001b[0m: name 'pritn' is not defined"
     ]
    }
   ],
   "source": [
    "lst = [[923370392561, 923342843869], ['file.csv', 'o.xlsx'], ['hamza', 'Linear aljebra']]\n",
    "for each in lst:\n",
    "    print(each)\n"
   ]
  },
  {
   "cell_type": "code",
   "execution_count": null,
   "metadata": {},
   "outputs": [],
   "source": []
  }
 ],
 "metadata": {
  "kernelspec": {
   "display_name": "Python 3",
   "language": "python",
   "name": "python3"
  },
  "language_info": {
   "codemirror_mode": {
    "name": "ipython",
    "version": 3
   },
   "file_extension": ".py",
   "mimetype": "text/x-python",
   "name": "python",
   "nbconvert_exporter": "python",
   "pygments_lexer": "ipython3",
   "version": "3.7.5"
  }
 },
 "nbformat": 4,
 "nbformat_minor": 2
}
