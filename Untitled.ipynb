{
 "cells": [
  {
   "cell_type": "code",
   "execution_count": 25,
   "metadata": {},
   "outputs": [],
   "source": [
    "import pandas as pd\n",
    "\n",
    "data = pd.read_csv(\"leads.csv\")\n",
    "data_dict = data.to_dict('list')\n",
    "leads = data_dict['LeadNumber']\n",
    "messages = data_dict['Message']\n",
    "combo = zip(leads,messages)\n",
    "\n",
    "    "
   ]
  },
  {
   "cell_type": "code",
   "execution_count": 26,
   "metadata": {},
   "outputs": [
    {
     "name": "stdout",
     "output_type": "stream",
     "text": [
      "[923322063648, 923130213321]\n",
      "['Hi from bot', 'Hi from bot']\n"
     ]
    },
    {
     "data": {
      "text/plain": [
       "{'names': ['Mohib', 'Wajiha'],\n",
       " 'LeadNumber': [923322063648, 923130213321],\n",
       " 'Message': ['Hi from bot', 'Hi from bot']}"
      ]
     },
     "execution_count": 26,
     "metadata": {},
     "output_type": "execute_result"
    }
   ],
   "source": [
    "print(leads)\n",
    "print(messages)\n",
    "\n",
    "data_dict"
   ]
  },
  {
   "cell_type": "code",
   "execution_count": 27,
   "metadata": {},
   "outputs": [
    {
     "name": "stdout",
     "output_type": "stream",
     "text": [
      "923322063648 Hi from bot\n",
      "923130213321 Hi from bot\n"
     ]
    }
   ],
   "source": [
    "for lead,message in combo:\n",
    "    print(str(lead) + \" \" + message )"
   ]
  },
  {
   "cell_type": "code",
   "execution_count": null,
   "metadata": {},
   "outputs": [],
   "source": []
  }
 ],
 "metadata": {
  "kernelspec": {
   "display_name": "Python 3",
   "language": "python",
   "name": "python3"
  },
  "language_info": {
   "codemirror_mode": {
    "name": "ipython",
    "version": 3
   },
   "file_extension": ".py",
   "mimetype": "text/x-python",
   "name": "python",
   "nbconvert_exporter": "python",
   "pygments_lexer": "ipython3",
   "version": "3.7.5"
  }
 },
 "nbformat": 4,
 "nbformat_minor": 4
}
